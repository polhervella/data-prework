{
 "cells": [
  {
   "cell_type": "markdown",
   "metadata": {},
   "source": [
    "<img src=\"https://bit.ly/2VnXWr2\" width=\"100\" align=\"left\">"
   ]
  },
  {
   "cell_type": "markdown",
   "metadata": {},
   "source": [
    "# Bus\n",
    "\n",
    "This bus has a passenger entry and exit control system to monitor the number of occupants it carries and thus detect when there are too many.\n",
    "\n",
    "At each stop, the entry and exit of passengers is represented by a tuple consisting of two integer numbers.\n",
    "```\n",
    "bus_stop = (in, out)\n",
    "```\n",
    "The succession of stops is represented by a list of these tuples.\n",
    "```\n",
    "stops = [(in1, out1), (in2, out2), (in3, out3), (in4, out4)]\n",
    "```\n",
    "\n",
    "## Tools\n",
    "You don't necessarily need to use all the tools. Maybe you opt to use some of them or completely different ones, they are given to help you shape the exercise. Programming exercises can be solved in many different ways.\n",
    "* Data structures: **lists, tuples**\n",
    "* Loop: **while/for loops**\n",
    "* Functions: **min, max, len**\n",
    "\n",
    "## Tasks"
   ]
  },
  {
   "cell_type": "code",
   "execution_count": 5,
   "metadata": {},
   "outputs": [
    {
     "name": "stdout",
     "output_type": "stream",
     "text": [
      "[[10, 0], [4, 1], [3, 5], [3, 4], [5, 1], [1, 5], [5, 8], [4, 6], [2, 3]]\n"
     ]
    }
   ],
   "source": [
    "# Variables\n",
    "stops = [(10, 0), (4, 1), (3, 5), (3, 4), (5, 1), (1, 5), (5, 8), (4, 6), (2, 3)]\n",
    "stops1 = [list(i)for i in stops]\n",
    "print(stops1)"
   ]
  },
  {
   "cell_type": "markdown",
   "metadata": {},
   "source": [
    "#### 1. Calculate the number of stops."
   ]
  },
  {
   "cell_type": "code",
   "execution_count": 16,
   "metadata": {
    "scrolled": true
   },
   "outputs": [
    {
     "name": "stdout",
     "output_type": "stream",
     "text": [
      "9\n"
     ]
    }
   ],
   "source": [
    "stops1 = [[10, 0], [4, 1], [3, 5], [3, 4], [5, 1], [1, 5], [5, 8], [4, 6], [2, 3]]\n",
    "print (len(stops1))"
   ]
  },
  {
   "cell_type": "markdown",
   "metadata": {},
   "source": [
    "#### 2. Assign to a variable a list whose elements are the number of passengers at each stop (in-out).\n",
    "Each item depends on the previous item in the list + in - out."
   ]
  },
  {
   "cell_type": "code",
   "execution_count": 50,
   "metadata": {
    "scrolled": true
   },
   "outputs": [
    {
     "name": "stdout",
     "output_type": "stream",
     "text": [
      "People in the bus: 10\n",
      "Number of stops: 1\n",
      "People in the bus: 13\n",
      "Number of stops: 2\n",
      "People in the bus: 11\n",
      "Number of stops: 3\n",
      "People in the bus: 10\n",
      "Number of stops: 4\n",
      "People in the bus: 14\n",
      "Number of stops: 5\n",
      "People in the bus: 10\n",
      "Number of stops: 6\n",
      "People in the bus: 7\n",
      "Number of stops: 7\n",
      "People in the bus: 5\n",
      "Number of stops: 8\n",
      "People in the bus: 4\n",
      "Number of stops: 9\n"
     ]
    }
   ],
   "source": [
    "people_in_the_bus = 0\n",
    "num_stops = 0\n",
    "for on,off in stops1:\n",
    "    people_in_the_bus += on - off\n",
    "    num_stops += 1\n",
    "    print(\"People in the bus:\", people_in_the_bus)\n",
    "    print(\"Number of stops:\",num_stops)"
   ]
  },
  {
   "cell_type": "markdown",
   "metadata": {},
   "source": [
    "#### 3. Find the maximum occupation of the bus."
   ]
  },
  {
   "cell_type": "code",
   "execution_count": 52,
   "metadata": {},
   "outputs": [
    {
     "data": {
      "text/plain": [
       "14"
      ]
     },
     "execution_count": 52,
     "metadata": {},
     "output_type": "execute_result"
    }
   ],
   "source": [
    "people_per_stop = [10,13,11,10,14,10,7,5,4]\n",
    "max(people_per_stop)"
   ]
  },
  {
   "cell_type": "markdown",
   "metadata": {},
   "source": [
    "#### 4. Calculate the average occupation. And the standard deviation."
   ]
  },
  {
   "cell_type": "code",
   "execution_count": 11,
   "metadata": {},
   "outputs": [
    {
     "name": "stdout",
     "output_type": "stream",
     "text": [
      "The average is: 9.333333333333334\n"
     ]
    }
   ],
   "source": [
    "numerator = sum (people_per_stop)\n",
    "divider = 0\n",
    "average = numerator / len(people_per_stop)\n",
    "for i in people_per_stop:\n",
    "    divider += 1\n",
    "print (\"The average is:\",average)"
   ]
  },
  {
   "cell_type": "code",
   "execution_count": 14,
   "metadata": {},
   "outputs": [
    {
     "name": "stdout",
     "output_type": "stream",
     "text": [
      "The standard deviation is: 0.0\n"
     ]
    }
   ],
   "source": [
    "import math\n",
    "total = 0\n",
    "length = len(people_per_stop)\n",
    "standard_dev = math.sqrt(total/length)\n",
    "for i in people_per_stop:\n",
    "    total += (i-average)**2\n",
    "print(\"The standard deviation is:\",standard_dev)"
   ]
  },
  {
   "cell_type": "code",
   "execution_count": null,
   "metadata": {},
   "outputs": [],
   "source": []
  }
 ],
 "metadata": {
  "kernelspec": {
   "display_name": "Python 3",
   "language": "python",
   "name": "python3"
  },
  "language_info": {
   "codemirror_mode": {
    "name": "ipython",
    "version": 3
   },
   "file_extension": ".py",
   "mimetype": "text/x-python",
   "name": "python",
   "nbconvert_exporter": "python",
   "pygments_lexer": "ipython3",
   "version": "3.9.0"
  }
 },
 "nbformat": 4,
 "nbformat_minor": 2
}
